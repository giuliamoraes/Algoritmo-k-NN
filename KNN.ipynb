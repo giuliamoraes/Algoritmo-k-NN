{
 "cells": [
  {
   "cell_type": "markdown",
   "metadata": {},
   "source": [
    "# KNN "
   ]
  },
  {
   "cell_type": "markdown",
   "metadata": {},
   "source": [
    "**k-NN** é uma algoritmo que pertence a classe de aprendizado baseado em instância. O k-NN é usado para o reconhecimento de padrões, buscando os vizinhos mais próximos dado uma distância, visto que usa a hipotese que dados similares tendem a estar na mesma região. **É um problema de otimização que busca encontrar pontos em uma determinada vizinhancia** </p> \n",
    "<p> A Classe : \n",
    "Instace based learning é a classe que compara as novas instâncias com de um problema com as instâncias vistas no treinamento. Ou seja, ao invés de usar de generalização ele controí hipotese diretamente com as instâncias de treinamento.</p> \n",
    "<p> A Vantagem: \n",
    "Capacidade de se adaptar o modelos a dados que não foram vistos antes. </p>"
   ]
  },
  {
   "cell_type": "markdown",
   "metadata": {},
   "source": [
    "Para entender melhor o funcionamento do algoritmo vamos relembrar de alguns conceitos matemático, sendo esse conceitos a *distância euclidiana*, *a distância city-block, ou Manhattan* e a *distância de Minkowski*. Vale lembrar que as distâncias podem ser entendidas como medidas de similaridade, defini o grau de semelhança entre as instâncias e agrupa de acordo com a coesão, e desimilaridade, é a diferença entre as instâncias. Sendo p=(p1, p2, ..., pn) e q=(q1, q2, ..., qn):"
   ]
  },
  {
   "cell_type": "markdown",
   "metadata": {},
   "source": [
    "- Distância euclidiana: Distância entre dois pontos num espaço Euclidiano. É definida como a soma da raiz quadrada da diferença entre duas coordenadas, em suas dimensões."
   ]
  },
  {
   "attachments": {},
   "cell_type": "markdown",
   "metadata": {},
   "source": [
    "![image.png](https://encrypted-tbn0.gstatic.com/images?q=tbn%3AANd9GcT7VfwGAEGxDElBVnXKYFWirzdnYf8UXZHcNvUiKW3-Hic83oTF)"
   ]
  },
  {
   "cell_type": "markdown",
   "metadata": {},
   "source": [
    "- Distância Manhattan: Distancia entre dois pontos no espaço cartesiano. É definida como sendo a soma da diferença entre as coordenadas em cada dimensão. "
   ]
  },
  {
   "attachments": {},
   "cell_type": "markdown",
   "metadata": {},
   "source": [
    "![image.png](https://angiogenesis.dkfz.de/oncoexpress/software/cs_clust/dist_004.gif)"
   ]
  },
  {
   "cell_type": "markdown",
   "metadata": {},
   "source": [
    "- Distância de Minkowski: É uma métrica do espaço vetorial. Pode ser visto como sendo uma generalização das duas distâncias anteriores."
   ]
  },
  {
   "attachments": {},
   "cell_type": "markdown",
   "metadata": {},
   "source": [
    "![image.png](https://encrypted-tbn0.gstatic.com/images?q=tbn%3AANd9GcTr3HJ2kifDA1jQQifa9yHpi6DG5rRRq8oVyMxQH3g3MQjPrq31)"
   ]
  },
  {
   "cell_type": "markdown",
   "metadata": {},
   "source": [
    "Na literatura, existem duas regras de classificação, *maioria da votação* e *peso pela distância*, sendo a primeira todos com a mesma influêcia e a classe escolhida é aquela que possui mais representante na vizinhança e a segunda cada vizinho tem um peso inversamente proporcional a distância. "
   ]
  },
  {
   "cell_type": "markdown",
   "metadata": {},
   "source": [
    "Para executar o algoritmo, precisa-se de um conjunto de treinamento, definição de uma métrica, usada pra calcular a distância entre os exemplos e definir um valor da quantidade de vizinho:"
   ]
  },
  {
   "cell_type": "markdown",
   "metadata": {},
   "source": [
    "Sendo assim, para executar o algoritmo temos que:\n",
    "1.\tFixar o ponto que será analisado, esse ponto é chamado de centroide.\n",
    "2.\tCalcular a distância.\n",
    "3.\tEncontrar os k-vizinhos mais próximos.\n",
    "4.\tPredizer o rótulo do ponto analisado (centroide). "
   ]
  },
  {
   "cell_type": "markdown",
   "metadata": {},
   "source": [
    "A imagem abaixo, representa como o algoritmo funciona"
   ]
  },
  {
   "attachments": {},
   "cell_type": "markdown",
   "metadata": {},
   "source": [
    "![image.png](https://encrypted-tbn0.gstatic.com/images?q=tbn%3AANd9GcTmeZsoI8ubW3Lt9Ff11Z7E9Q4cnur9mcOwkm5s3bkXfCdlt_3b)"
   ]
  }
 ],
 "metadata": {
  "kernelspec": {
   "display_name": "Python 3",
   "language": "python",
   "name": "python3"
  },
  "language_info": {
   "codemirror_mode": {
    "name": "ipython",
    "version": 3
   },
   "file_extension": ".py",
   "mimetype": "text/x-python",
   "name": "python",
   "nbconvert_exporter": "python",
   "pygments_lexer": "ipython3",
   "version": "3.7.3"
  }
 },
 "nbformat": 4,
 "nbformat_minor": 2
}
